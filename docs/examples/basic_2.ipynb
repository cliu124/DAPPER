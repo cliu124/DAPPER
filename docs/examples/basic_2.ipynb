{
 "cells": [
  {
   "cell_type": "markdown",
   "id": "cf1f0bba",
   "metadata": {},
   "source": [
    "## Multiple synthetic benchmark experiments"
   ]
  },
  {
   "cell_type": "markdown",
   "id": "e60a67d5",
   "metadata": {},
   "source": [
    "### Imports\n",
    "<b>NB:</b> If you're on <mark><b>Gooble Colab</b></mark>,\n",
    "then replace `%matplotlib notebook` below by\\\n",
    "`!python -m pip install git+https://github.com/nansencenter/DAPPER.git`\\\n",
    "Also note that liveplotting does not work on Colab."
   ]
  },
  {
   "cell_type": "code",
   "execution_count": 1,
   "id": "b1c0d97d",
   "metadata": {},
   "outputs": [],
   "source": [
    "%matplotlib notebook\n",
    "import dapper as dpr  # noqa: I001\n",
    "import dapper.da_methods as da"
   ]
  },
  {
   "cell_type": "markdown",
   "id": "4684f899",
   "metadata": {
    "lines_to_next_cell": 2
   },
   "source": [
    "### DA method configurations"
   ]
  },
  {
   "cell_type": "code",
   "execution_count": 2,
   "id": "9f819077",
   "metadata": {},
   "outputs": [],
   "source": [
    "from dapper.mods.Lorenz63.sakov2012 import HMM  # Expected rmse.a:\n",
    "\n",
    "xps = dpr.xpList()\n",
    "xps += da.Climatology()                                      # 7.6\n",
    "xps += da.OptInterp()                                        # 1.25\n",
    "#xps += da.Persistence()                                      # 10.7\n",
    "#xps += da.PreProg(lambda k, xx, yy: xx[k])                   # 0\n",
    "xps += da.Var3D(xB=0.1)                                      # 1.03\n",
    "xps += da.ExtKF(infl=90)                                     # 0.87\n",
    "xps += da.EnKF('Sqrt'   , N=3   , infl=1.30)                 # 0.82\n",
    "xps += da.EnKF('Sqrt'   , N=10  , infl=1.02, rot=True)       # 0.63\n",
    "xps += da.EnKF('PertObs', N=500 , infl=0.95, rot=False)      # 0.56\n",
    "xps += da.EnKF_N(         N=10             , rot=True)       # 0.54\n",
    "xps += da.iEnKS('Sqrt'  , N=10  , infl=1.02, rot=True)       # 0.31\n",
    "xps += da.PartFilt(       N=100 , reg=2.4  , NER=0.3)        # 0.38\n",
    "xps += da.PartFilt(       N=800 , reg=0.9  , NER=0.2)        # 0.28\n",
    "# xps += da.PartFilt(       N=4000, reg=0.7  , NER=0.05)       # 0.27\n",
    "# xps += da.PFxN(xN=1000,   N=30  , Qs=2     , NER=0.2)        # 0.56"
   ]
  },
  {
   "cell_type": "markdown",
   "id": "f127ebc2",
   "metadata": {},
   "source": [
    "#### With Lorenz-96 instead"
   ]
  },
  {
   "cell_type": "code",
   "execution_count": 3,
   "id": "e665575f",
   "metadata": {},
   "outputs": [],
   "source": [
    "# from dapper.mods.Lorenz96.sakov2008 import HMM   # Expected rmse.a:\n",
    "# xps = dpr.xpList()\n",
    "# xps += da.Climatology()                                     # 3.6\n",
    "# xps += da.OptInterp()                                       # 0.95\n",
    "# xps += da.Var3D(xB=0.02)                                    # 0.41\n",
    "# xps += da.ExtKF(infl=6)                                     # 0.24\n",
    "# xps += da.EnKF('PertObs', N=40, infl=1.06)                  # 0.22\n",
    "# xps += da.EnKF('Sqrt'   , N=28, infl=1.02, rot=True)        # 0.18\n",
    "# # More sophisticated:\n",
    "# xps += da.EnKF_N(         N=24, rot=True)                   # 0.21\n",
    "# xps += da.EnKF_N(         N=24, rot=True, xN=2)             # 0.18\n",
    "# xps += da.iEnKS('Sqrt'  , N=40, infl=1.01, rot=True)        # 0.17\n",
    "# # With localisation:\n",
    "# xps += da.LETKF(          N=7 , infl=1.04, rot=True, loc_rad=4)  # 0.22\n",
    "# xps += da.SL_EAKF(        N=7 , infl=1.07, rot=True, loc_rad=6)  # 0.23"
   ]
  },
  {
   "cell_type": "markdown",
   "id": "44557676",
   "metadata": {},
   "source": [
    "#### Other models (suitable xp's listed in HMM files):"
   ]
  },
  {
   "cell_type": "code",
   "execution_count": 4,
   "id": "7929298c",
   "metadata": {},
   "outputs": [],
   "source": [
    "# from dapper.mods.LA           .evensen2009 import HMM\n",
    "# from dapper.mods.KS           .bocquet2019 import HMM\n",
    "# from dapper.mods.LotkaVolterra.settings101 import HMM"
   ]
  },
  {
   "cell_type": "markdown",
   "id": "d8deb761",
   "metadata": {},
   "source": [
    "### Launch"
   ]
  },
  {
   "cell_type": "markdown",
   "id": "5cc4d721",
   "metadata": {},
   "source": [
    "Write some more non-arg parameters to the `xps`. In this case we set the seed,\n",
    "so that repeat experiments produce exactly the same result."
   ]
  },
  {
   "cell_type": "code",
   "execution_count": 5,
   "id": "8b903ed3",
   "metadata": {},
   "outputs": [],
   "source": [
    "for xp in xps:\n",
    "    xp.seed = 3000"
   ]
  },
  {
   "cell_type": "markdown",
   "id": "3237c124",
   "metadata": {},
   "source": [
    "Adjust experiment duration"
   ]
  },
  {
   "cell_type": "code",
   "execution_count": 6,
   "id": "07722c35",
   "metadata": {},
   "outputs": [],
   "source": [
    "HMM.tseq.T = 50"
   ]
  },
  {
   "cell_type": "markdown",
   "id": "cc49da09",
   "metadata": {},
   "source": [
    "Run/assimilate (for each `xp` in `xps`)"
   ]
  },
  {
   "cell_type": "code",
   "execution_count": 7,
   "id": "b24e7557",
   "metadata": {},
   "outputs": [
    {
     "name": "stdout",
     "output_type": "stream",
     "text": [
      "Experiment gets stored at /Users/para/data/dpr_data/noname/run_2024-10-31__17-12-44\n"
     ]
    },
    {
     "name": "stderr",
     "output_type": "stream",
     "text": [
      "Truth & Obs: 100%|█████████████| 5000/5000 [00:00<00:00, 41765.45it/s]\n",
      "Climatology: 100%|█████████████| 5000/5000 [00:00<00:00, 58936.74it/s]\n",
      "Truth & Obs: 100%|█████████████| 5000/5000 [00:00<00:00, 42079.80it/s]\n",
      "OptInterp: 100%|███████████████| 5000/5000 [00:00<00:00, 25958.39it/s]\n",
      "Truth & Obs: 100%|█████████████| 5000/5000 [00:00<00:00, 42096.02it/s]\n",
      "Var3D: 100%|███████████████████| 5000/5000 [00:00<00:00, 26433.50it/s]\n",
      "Truth & Obs: 100%|█████████████| 5000/5000 [00:00<00:00, 38184.81it/s]\n",
      "ExtKF infl:90: 100%|███████████| 5000/5000 [00:00<00:00, 19740.78it/s]\n",
      "Truth & Obs: 100%|█████████████| 5000/5000 [00:00<00:00, 41851.22it/s]\n",
      "EnKF infl:1.3 upd_a:Sqrt N:3 rot:False: 100%|█| 5000/5000 [00:00<00:00\n",
      "Truth & Obs: 100%|█████████████| 5000/5000 [00:00<00:00, 40812.37it/s]\n",
      "EnKF infl:1.02 upd_a:Sqrt N:10 rot:True: 100%|█| 5000/5000 [00:00<00:0\n",
      "Truth & Obs: 100%|█████████████| 5000/5000 [00:00<00:00, 42888.91it/s]\n",
      "EnKF infl:0.95 upd_a:PertObs N:500 rot:False: 100%|█| 5000/5000 [00:00\n",
      "Truth & Obs: 100%|█████████████| 5000/5000 [00:00<00:00, 40611.08it/s]\n",
      "EnKF_N infl:1 N:10 rot:True xN:1: 100%|█| 5000/5000 [00:00<00:00, 1325\n",
      "Truth & Obs: 100%|█████████████| 5000/5000 [00:00<00:00, 40498.23it/s]\n",
      "iEnKS infl:1.02 upd_a:Sqrt N:10 rot:True: 100%|█| 201/201 [00:03<00:00\n",
      "Truth & Obs: 100%|█████████████| 5000/5000 [00:00<00:00, 42317.38it/s]\n",
      "PartFilt N:100 reg:2.4 NER:0.3: 100%|█| 5000/5000 [00:00<00:00, 13981.\n",
      "Truth & Obs: 100%|█████████████| 5000/5000 [00:00<00:00, 42299.37it/s]\n",
      "PartFilt N:800 reg:0.9 NER:0.2: 100%|█| 5000/5000 [00:00<00:00, 8458.1\n"
     ]
    }
   ],
   "source": [
    "save_as = xps.launch(HMM, liveplots=False)"
   ]
  },
  {
   "cell_type": "markdown",
   "id": "7e44ffe8",
   "metadata": {},
   "source": [
    "### Print results"
   ]
  },
  {
   "cell_type": "code",
   "execution_count": 8,
   "id": "8bd94fa0",
   "metadata": {},
   "outputs": [
    {
     "name": "stdout",
     "output_type": "stream",
     "text": [
      "    da_method     infl  upd_a      N  rot    xN  reg  NER  |  rmse.a  1σ  \n",
      "--  -----------  -----  -------  ---  -----  --  ---  ---  -  ------------\n",
      " 0  Climatology                                            |    7.4  ±0.3 \n",
      " 1  OptInterp                                              |    1.23 ±0.04\n",
      " 2  Var3D                                                  |    1.07 ±0.06\n",
      " 3  ExtKF        90                                        |    0.88 ±0.09\n",
      " 4  EnKF          1.3   Sqrt       3  False                |    0.8  ±0.1 \n",
      " 5  EnKF          1.02  Sqrt      10  True                 |    0.59 ±0.06\n",
      " 6  EnKF          0.95  PertObs  500  False                |    1.1  ±0.3 \n",
      " 7  EnKF_N        1               10  True    1            |    0.71 ±0.07\n",
      " 8  iEnKS         1.02  Sqrt      10  True                 |    0.23 ±0.02\n",
      " 9  PartFilt                     100             2.4  0.3  |    0.32 ±0.03\n",
      "10  PartFilt                     800             0.9  0.2  |    0.20 ±0.03\n"
     ]
    }
   ],
   "source": [
    "print(xps.tabulate_avrgs(statkeys=[\"rmse.a\"]))"
   ]
  }
 ],
 "metadata": {
  "jupytext": {
   "cell_metadata_filter": "-all",
   "formats": "py:light,ipynb",
   "main_language": "python",
   "notebook_metadata_filter": "-all"
  },
  "kernelspec": {
   "display_name": "Python 3 (ipykernel)",
   "language": "python",
   "name": "python3"
  },
  "language_info": {
   "codemirror_mode": {
    "name": "ipython",
    "version": 3
   },
   "file_extension": ".py",
   "mimetype": "text/x-python",
   "name": "python",
   "nbconvert_exporter": "python",
   "pygments_lexer": "ipython3",
   "version": "3.12.4"
  }
 },
 "nbformat": 4,
 "nbformat_minor": 5
}
